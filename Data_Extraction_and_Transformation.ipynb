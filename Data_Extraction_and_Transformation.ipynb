{
  "nbformat": 4,
  "nbformat_minor": 0,
  "metadata": {
    "colab": {
      "provenance": [],
      "authorship_tag": "ABX9TyNAkKdCHNmtINi7hkAYQk0t",
      "include_colab_link": true
    },
    "kernelspec": {
      "name": "python3",
      "display_name": "Python 3"
    },
    "language_info": {
      "name": "python"
    }
  },
  "cells": [
    {
      "cell_type": "markdown",
      "metadata": {
        "id": "view-in-github",
        "colab_type": "text"
      },
      "source": [
        "<a href=\"https://colab.research.google.com/github/ravirt7911/Data-Extraction-and-Transformation-Beautiful-soap/blob/main/Data_Extraction_and_Transformation.ipynb\" target=\"_parent\"><img src=\"https://colab.research.google.com/assets/colab-badge.svg\" alt=\"Open In Colab\"/></a>"
      ]
    },
    {
      "cell_type": "code",
      "execution_count": 1,
      "metadata": {
        "id": "4KUiTRxUJaGu"
      },
      "outputs": [],
      "source": [
        "import requests\n",
        "from bs4 import BeautifulSoup\n",
        "import csv"
      ]
    },
    {
      "cell_type": "code",
      "source": [
        "url = \"https://magicpin.in/New-Delhi/Paharganj/Restaurant/Eatfit/store/61a193/delivery/\"\n",
        "response = requests.get(url)"
      ],
      "metadata": {
        "id": "vH0DpO_KJcTp"
      },
      "execution_count": 2,
      "outputs": []
    },
    {
      "cell_type": "code",
      "source": [
        "soup = BeautifulSoup(response.content, 'html.parser')"
      ],
      "metadata": {
        "id": "8p-iJrMRJjNd"
      },
      "execution_count": 3,
      "outputs": []
    },
    {
      "cell_type": "code",
      "source": [
        "catalog_items_holder = soup.find('div', class_='catalogItemsHolder')\n",
        "articles = catalog_items_holder.find_all('article')\n",
        "data = []"
      ],
      "metadata": {
        "id": "RWLH4bBFJl67"
      },
      "execution_count": 10,
      "outputs": []
    },
    {
      "cell_type": "code",
      "source": [
        "for article in articles:\n",
        "    item_name_tag = article.find('p', class_='itemName')\n",
        "    price_tag = article.find('span', class_='itemPrice')\n",
        "    if item_name_tag and price_tag:\n",
        "        item_name = item_name_tag.get_text().strip()\n",
        "        price = price_tag.get_text().strip()\n",
        "        data.append([item_name, price])"
      ],
      "metadata": {
        "id": "GOCC4ICjJ-Qg"
      },
      "execution_count": 12,
      "outputs": []
    },
    {
      "cell_type": "code",
      "source": [
        "with open('output.csv', 'w', newline='') as file:\n",
        "    writer = csv.writer(file)\n",
        "    writer.writerows(data)"
      ],
      "metadata": {
        "id": "jffAql-GJ_c5"
      },
      "execution_count": 13,
      "outputs": []
    },
    {
      "cell_type": "code",
      "source": [],
      "metadata": {
        "id": "yLjCs7-ILc38"
      },
      "execution_count": null,
      "outputs": []
    }
  ]
}